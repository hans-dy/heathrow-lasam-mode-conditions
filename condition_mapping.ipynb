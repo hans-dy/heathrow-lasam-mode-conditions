{
 "cells": [
  {
   "cell_type": "code",
   "execution_count": 1,
   "id": "a6d469e8",
   "metadata": {},
   "outputs": [
    {
     "name": "stderr",
     "output_type": "stream",
     "text": [
      "c:\\Users\\DYCKERH\\OneDrive - Jacobs\\Documents\\Expanding Heathrow\\wip lasam mode conditions\\heathrow-lasam-mode-conditions\\src\\old_mappers\\ModeConditionMapperV4.py:6: SyntaxWarning: invalid escape sequence '\\.'\n",
      "  sys.path.append('..\\..')\n"
     ]
    }
   ],
   "source": [
    "import pandas as pd\n",
    "import matplotlib.pyplot as plt\n",
    "import numpy as np\n",
    "\n",
    "from src import caa_survey_utils, config\n",
    "\n",
    "from src.old_mappers.ModeConditionMapperV4 import ModeConditionMapper as ModeConditionMapperV4\n",
    "from src.old_mappers.ModeConditionMapperV4_Corrected import ModeConditionMapper as ModeConditionMapperV4_Corrected\n",
    "from src.old_mappers.ModeConditionMapperV5 import ModeConditionMapper as ModeConditionMapperV5\n",
    "from src.old_mappers.ModeConditionMapperV6 import ModeConditionMapper as ModeConditionMapperV6\n",
    "from src.old_mappers.ModeConditionMapperV6_Old_LASAM_Mode_LU import ModeConditionMapper as ModeConditionMapperV6_old_lasam_mode_lu\n",
    "\n",
    "\n",
    "%load_ext autoreload\n",
    "%autoreload 2"
   ]
  },
  {
   "cell_type": "markdown",
   "id": "58938f73",
   "metadata": {},
   "source": [
    "# 1. Import and Preprocess Data"
   ]
  },
  {
   "cell_type": "markdown",
   "id": "2fbc8191",
   "metadata": {},
   "source": [
    "## 1.1 CAA Survey Data"
   ]
  },
  {
   "cell_type": "code",
   "execution_count": 2,
   "id": "706a998d",
   "metadata": {},
   "outputs": [],
   "source": [
    "# CAA for Heathrow Airport\n",
    "caa_2023_24_path = r\"\\\\uk-lon-FAS02\\Projects\\UNIF\\Projects\\60H700SA - Heathrow SAS 2024\\04 Technical\\03 LASAM Development\\11_Mode choice models\\21 Origin assignment\\01 Sent to TP\\Full dataset for LASAM Zone Assignment.xlsx\"\n",
    "caa_original = pd.read_excel(caa_2023_24_path, engine='openpyxl')\n",
    "caa_original = caa_original.drop(columns=['Date', 'Mode Group', 'Rename', 'Tylers proposed change', 'Exclusion', 'Report Method Timestamp', 'Weighting'])"
   ]
  },
  {
   "cell_type": "markdown",
   "id": "7d9424cb",
   "metadata": {},
   "source": [
    "### Remove Dummy Records and uplift remaining population"
   ]
  },
  {
   "cell_type": "code",
   "execution_count": 3,
   "id": "194dc804",
   "metadata": {},
   "outputs": [
    {
     "name": "stdout",
     "output_type": "stream",
     "text": [
      "0 dummy records removed and reminaing population uplifted by 1.0\n"
     ]
    },
    {
     "data": {
      "text/html": [
       "<div>\n",
       "<style scoped>\n",
       "    .dataframe tbody tr th:only-of-type {\n",
       "        vertical-align: middle;\n",
       "    }\n",
       "\n",
       "    .dataframe tbody tr th {\n",
       "        vertical-align: top;\n",
       "    }\n",
       "\n",
       "    .dataframe thead th {\n",
       "        text-align: right;\n",
       "    }\n",
       "</style>\n",
       "<table border=\"1\" class=\"dataframe\">\n",
       "  <thead>\n",
       "    <tr style=\"text-align: right;\">\n",
       "      <th></th>\n",
       "      <th>TAG</th>\n",
       "      <th>AIRPORT_Prefix</th>\n",
       "      <th>APT_TERMINAL</th>\n",
       "      <th>GATE</th>\n",
       "      <th>Year</th>\n",
       "      <th>SYSTEM_QUARTER</th>\n",
       "      <th>SYSTEM_MONTH</th>\n",
       "      <th>IDATE</th>\n",
       "      <th>SYSTEM_START_TIME</th>\n",
       "      <th>SEX</th>\n",
       "      <th>...</th>\n",
       "      <th>SYSTEM_PURPOSE1</th>\n",
       "      <th>PURPOSE</th>\n",
       "      <th>MBUSINESS</th>\n",
       "      <th>PROMOTE</th>\n",
       "      <th>ETHNIC</th>\n",
       "      <th>DISABLE</th>\n",
       "      <th>POP</th>\n",
       "      <th>DUMMY_FLAG</th>\n",
       "      <th>RUN_DATE</th>\n",
       "      <th>NATION1</th>\n",
       "    </tr>\n",
       "  </thead>\n",
       "  <tbody>\n",
       "    <tr>\n",
       "      <th>0</th>\n",
       "      <td>Heathrow-11/01/2024-TZR123-330</td>\n",
       "      <td>LHR</td>\n",
       "      <td>4</td>\n",
       "      <td>NaN</td>\n",
       "      <td>2024</td>\n",
       "      <td>1</td>\n",
       "      <td>Jan</td>\n",
       "      <td>2024-01-11</td>\n",
       "      <td>13:49:35</td>\n",
       "      <td>Male</td>\n",
       "      <td>...</td>\n",
       "      <td>Leisure</td>\n",
       "      <td>Leisure Other</td>\n",
       "      <td>NaN</td>\n",
       "      <td>08</td>\n",
       "      <td>White - Irish</td>\n",
       "      <td>No</td>\n",
       "      <td>1561.885714</td>\n",
       "      <td>Missing</td>\n",
       "      <td>27/03/2025 15:07:51</td>\n",
       "      <td>Ireland</td>\n",
       "    </tr>\n",
       "    <tr>\n",
       "      <th>1</th>\n",
       "      <td>Heathrow-14/01/2024-IER123-328</td>\n",
       "      <td>LHR</td>\n",
       "      <td>3</td>\n",
       "      <td>NaN</td>\n",
       "      <td>2024</td>\n",
       "      <td>1</td>\n",
       "      <td>Jan</td>\n",
       "      <td>2024-01-14</td>\n",
       "      <td>06:24:19</td>\n",
       "      <td>Female</td>\n",
       "      <td>...</td>\n",
       "      <td>Business</td>\n",
       "      <td>Business</td>\n",
       "      <td>NaN</td>\n",
       "      <td>10</td>\n",
       "      <td>Other</td>\n",
       "      <td>No</td>\n",
       "      <td>809.008874</td>\n",
       "      <td>Missing</td>\n",
       "      <td>27/03/2025 15:07:51</td>\n",
       "      <td>New Zealand</td>\n",
       "    </tr>\n",
       "    <tr>\n",
       "      <th>2</th>\n",
       "      <td>Heathrow-05/01/2024-EFL123-326</td>\n",
       "      <td>LHR</td>\n",
       "      <td>5</td>\n",
       "      <td>NaN</td>\n",
       "      <td>2024</td>\n",
       "      <td>1</td>\n",
       "      <td>Jan</td>\n",
       "      <td>2024-01-05</td>\n",
       "      <td>10:10:41</td>\n",
       "      <td>Female</td>\n",
       "      <td>...</td>\n",
       "      <td>Leisure</td>\n",
       "      <td>Leisure Other</td>\n",
       "      <td>NaN</td>\n",
       "      <td>07</td>\n",
       "      <td>White - Any other White background</td>\n",
       "      <td>No</td>\n",
       "      <td>1058.387919</td>\n",
       "      <td>Missing</td>\n",
       "      <td>27/03/2025 15:07:51</td>\n",
       "      <td>United States of America (USA)</td>\n",
       "    </tr>\n",
       "    <tr>\n",
       "      <th>3</th>\n",
       "      <td>Heathrow-05/01/2024-EAU123-326</td>\n",
       "      <td>LHR</td>\n",
       "      <td>3</td>\n",
       "      <td>NaN</td>\n",
       "      <td>2024</td>\n",
       "      <td>1</td>\n",
       "      <td>Jan</td>\n",
       "      <td>2024-01-05</td>\n",
       "      <td>20:34:22</td>\n",
       "      <td>Male</td>\n",
       "      <td>...</td>\n",
       "      <td>Leisure</td>\n",
       "      <td>Visiting Friends and Relatives</td>\n",
       "      <td>NaN</td>\n",
       "      <td>06</td>\n",
       "      <td>Asian - Chinese</td>\n",
       "      <td>No</td>\n",
       "      <td>849.125000</td>\n",
       "      <td>Missing</td>\n",
       "      <td>27/03/2025 15:07:51</td>\n",
       "      <td>China</td>\n",
       "    </tr>\n",
       "    <tr>\n",
       "      <th>4</th>\n",
       "      <td>Heathrow-10/01/2024-IER123-314</td>\n",
       "      <td>LHR</td>\n",
       "      <td>2</td>\n",
       "      <td>NaN</td>\n",
       "      <td>2024</td>\n",
       "      <td>1</td>\n",
       "      <td>Jan</td>\n",
       "      <td>2024-01-10</td>\n",
       "      <td>17:04:42</td>\n",
       "      <td>Male</td>\n",
       "      <td>...</td>\n",
       "      <td>Leisure</td>\n",
       "      <td>Visiting Friends and Relatives</td>\n",
       "      <td>NaN</td>\n",
       "      <td>08</td>\n",
       "      <td>White - Any other White background</td>\n",
       "      <td>No</td>\n",
       "      <td>688.411796</td>\n",
       "      <td>Missing</td>\n",
       "      <td>27/03/2025 15:07:51</td>\n",
       "      <td>Sweden</td>\n",
       "    </tr>\n",
       "  </tbody>\n",
       "</table>\n",
       "<p>5 rows × 48 columns</p>\n",
       "</div>"
      ],
      "text/plain": [
       "                              TAG AIRPORT_Prefix  APT_TERMINAL  GATE  Year  \\\n",
       "0  Heathrow-11/01/2024-TZR123-330            LHR             4   NaN  2024   \n",
       "1  Heathrow-14/01/2024-IER123-328            LHR             3   NaN  2024   \n",
       "2  Heathrow-05/01/2024-EFL123-326            LHR             5   NaN  2024   \n",
       "3  Heathrow-05/01/2024-EAU123-326            LHR             3   NaN  2024   \n",
       "4  Heathrow-10/01/2024-IER123-314            LHR             2   NaN  2024   \n",
       "\n",
       "   SYSTEM_QUARTER SYSTEM_MONTH      IDATE SYSTEM_START_TIME     SEX  ...  \\\n",
       "0               1          Jan 2024-01-11          13:49:35    Male  ...   \n",
       "1               1          Jan 2024-01-14          06:24:19  Female  ...   \n",
       "2               1          Jan 2024-01-05          10:10:41  Female  ...   \n",
       "3               1          Jan 2024-01-05          20:34:22    Male  ...   \n",
       "4               1          Jan 2024-01-10          17:04:42    Male  ...   \n",
       "\n",
       "  SYSTEM_PURPOSE1                         PURPOSE MBUSINESS PROMOTE  \\\n",
       "0         Leisure                   Leisure Other       NaN      08   \n",
       "1        Business                        Business       NaN      10   \n",
       "2         Leisure                   Leisure Other       NaN      07   \n",
       "3         Leisure  Visiting Friends and Relatives       NaN      06   \n",
       "4         Leisure  Visiting Friends and Relatives       NaN      08   \n",
       "\n",
       "                               ETHNIC DISABLE          POP DUMMY_FLAG  \\\n",
       "0                       White - Irish      No  1561.885714    Missing   \n",
       "1                               Other      No   809.008874    Missing   \n",
       "2  White - Any other White background      No  1058.387919    Missing   \n",
       "3                     Asian - Chinese      No   849.125000    Missing   \n",
       "4  White - Any other White background      No   688.411796    Missing   \n",
       "\n",
       "              RUN_DATE                         NATION1  \n",
       "0  27/03/2025 15:07:51                         Ireland  \n",
       "1  27/03/2025 15:07:51                     New Zealand  \n",
       "2  27/03/2025 15:07:51  United States of America (USA)  \n",
       "3  27/03/2025 15:07:51                           China  \n",
       "4  27/03/2025 15:07:51                          Sweden  \n",
       "\n",
       "[5 rows x 48 columns]"
      ]
     },
     "execution_count": 3,
     "metadata": {},
     "output_type": "execute_result"
    }
   ],
   "source": [
    "caa_lhr = caa_original[(caa_original['AIRPORT_Prefix']=='LHR')].copy()\n",
    "caa_lhr.reset_index(drop=True, inplace=True)\n",
    "caa_lhr = caa_survey_utils.process_dummy_records(caa_lhr)\n",
    "\n",
    "caa_lhr.head()"
   ]
  },
  {
   "cell_type": "markdown",
   "id": "45b61fed",
   "metadata": {},
   "source": [
    "### Remove records for interline passengers"
   ]
  },
  {
   "cell_type": "code",
   "execution_count": 4,
   "id": "11900272",
   "metadata": {},
   "outputs": [
    {
     "name": "stdout",
     "output_type": "stream",
     "text": [
      "removed 0 rows with interline passengers\n"
     ]
    }
   ],
   "source": [
    "caa_lhr = caa_survey_utils.remove_interline_pax(caa_lhr)"
   ]
  },
  {
   "cell_type": "markdown",
   "id": "0381e9d4",
   "metadata": {},
   "source": [
    "### Assign LASAM Segment"
   ]
  },
  {
   "cell_type": "code",
   "execution_count": 5,
   "id": "e4db1a7f",
   "metadata": {},
   "outputs": [],
   "source": [
    "caa_lhr = pd.merge(caa_lhr, config.segment_lu, on=['SYSTEM_COUNTRY', 'SYSTEM_RouteTo', 'SYSTEM_PURPOSE1', 'SYSTEM_Market'], how='left')"
   ]
  },
  {
   "cell_type": "markdown",
   "id": "c1cfe641",
   "metadata": {},
   "source": [
    "# 2. Assign LASAM Modes"
   ]
  },
  {
   "cell_type": "code",
   "execution_count": null,
   "id": "e0915636",
   "metadata": {},
   "outputs": [],
   "source": [
    "# update mode fields from TfL Rail to Elizabeth Line\n",
    "columns_to_update = ['MODEA', 'MODEB', 'MODEC', 'SYSTEM_FINALMODE']\n",
    "caa_lhr[columns_to_update] = caa_lhr[columns_to_update].replace('TfL Rail (formerly Heathrow Connect)', 'Elizabeth Line')\n",
    "\n",
    "# Assign LASAM mode based on CAA final mode to compare mode shares\n",
    "caa_lhr = pd.merge(caa_lhr, config.caa_final_mode_lasam_mode_lu, on='SYSTEM_FINALMODE', how='left')"
   ]
  },
  {
   "cell_type": "code",
   "execution_count": 10,
   "id": "f28c8b27",
   "metadata": {},
   "outputs": [
    {
     "data": {
      "text/plain": [
       "Index(['TAG', 'AIRPORT_Prefix', 'APT_TERMINAL', 'GATE', 'Year',\n",
       "       'SYSTEM_QUARTER', 'SYSTEM_MONTH', 'IDATE', 'SYSTEM_START_TIME', 'SEX',\n",
       "       'COUNTRY', 'SYSTEM_COUNTRY', 'AGE', 'AIRFROM', 'CUSTOMS', 'SYSTEM_TI',\n",
       "       'SYSTEM_RouteFrom', 'SYSTEM_Region', 'SYSTEM_County', 'SYSTEM_District',\n",
       "       'PCODE2', 'MODEA', 'MODEB', 'MODEC', 'SYSTEM_FINALMODE', 'ELEC_CAR',\n",
       "       'JourneyTime', 'myGROUP', 'TOAIRPOR', 'SYSTEM_RouteTo', 'Fltno',\n",
       "       'AIRLINE', 'FLIGHT', 'FINALAIR', 'SYSTEM_TRUEOD_AIRPORT',\n",
       "       'SYSTEM_Market', 'TRIP', 'TICKET', 'SYSTEM_PURPOSE1', 'PURPOSE',\n",
       "       'MBUSINESS', 'PROMOTE', 'ETHNIC', 'DISABLE', 'POP', 'DUMMY_FLAG',\n",
       "       'RUN_DATE', 'NATION1', 'Segment', 'Segment_4', 'Segment_4_ID'],\n",
       "      dtype='object')"
      ]
     },
     "execution_count": 10,
     "metadata": {},
     "output_type": "execute_result"
    }
   ],
   "source": [
    "caa_lhr.columns"
   ]
  },
  {
   "cell_type": "code",
   "execution_count": null,
   "id": "f4a5e995",
   "metadata": {},
   "outputs": [],
   "source": []
  },
  {
   "cell_type": "code",
   "execution_count": null,
   "id": "9a42bb7a",
   "metadata": {},
   "outputs": [],
   "source": [
    "def apply_last_mode(row: pd.Series) -> pd.Series:\n",
    "    "
   ]
  },
  {
   "cell_type": "code",
   "execution_count": null,
   "id": "d9cecdf1",
   "metadata": {},
   "outputs": [],
   "source": [
    "caa_lhr['Last'] = caa_lhr.apply(lambda row: row['MODEA'] if row['MODEC'] in ['No Mode', np.NaN] and row['MODEB'] in ['No Mode', np.NaN]\n",
    "                                else (row['MODEB'] if row['MODEC'] in ['No Mode', np.NaN] else row['MODEC']), axis=1)\n",
    "\n",
    "caa_lhr['2ndLast'] = caa_lhr.apply(lambda row: 'No Mode' if row['MODEC'] in ['No Mode', np.NaN] and row['MODEB'] in ['No Mode', np.NaN]\n",
    "                                   else (row['MODEA'] if row['MODEC'] in ['No Mode', np.NaN] else row['MODEB']), axis=1)\n",
    "\n",
    "caa_lhr['3rdLast'] = caa_lhr.apply(lambda row: 'No Mode' if row['MODEC'] in ['No Mode', np.NaN] else row['MODEA'], axis=1)\n",
    "\n",
    "caa_lhr['Origin'] = caa_lhr.apply(lambda row: 'AIRPORT' if row['SYSTEM_District'] in ['Heathrow Airport (SE)']\n",
    "                                 else ('LDN' if row['SYSTEM_County']=='Greater London' else 'NonLDN'), axis=1)\n",
    "\n",
    "caa_lhr['Contains_Elizabeth_Line'] = np.where(\n",
    "    (caa_lhr['Last'] == 'Elizabeth Line') |\n",
    "    (caa_lhr['2ndLast'] == 'Elizabeth Line') |\n",
    "    (caa_lhr['3rdLast'] == 'Elizabeth Line'),\n",
    "    True,\n",
    "    False\n",
    ")\n",
    "\n",
    "caa_lhr['Contains_Heathrow_Express'] = np.where(\n",
    "    (caa_lhr['Last'] == 'Heathrow Express') |\n",
    "    (caa_lhr['2ndLast'] == 'Heathrow Express') |\n",
    "    (caa_lhr['3rdLast'] == 'Heathrow Express'),\n",
    "    True,\n",
    "    False\n",
    ")\n",
    "\n",
    "caa_lhr['Contains_Tube'] = np.where(\n",
    "    (caa_lhr['Last'] == 'Tube/Metro/Subway') |\n",
    "    (caa_lhr['2ndLast'] == 'Tube/Metro/Subway') |\n",
    "    (caa_lhr['3rdLast'] == 'Tube/Metro/Subway'),\n",
    "    True,\n",
    "    False\n",
    ")\n",
    "\n",
    "caa_lhr['Contains_Rental'] = np.where(\n",
    "    (caa_lhr['Last'].isin(['Rental car - short term car park', 'Rental car - hire car courtesy bus'])) |\n",
    "    (caa_lhr['2ndLast'].isin(['Rental car - short term car park', 'Rental car - hire car courtesy bus'])) |\n",
    "    (caa_lhr['3rdLast'].isin(['Rental car - short term car park', 'Rental car - hire car courtesy bus'])),\n",
    "    True,\n",
    "    False\n",
    ")"
   ]
  }
 ],
 "metadata": {
  "kernelspec": {
   "display_name": "geo",
   "language": "python",
   "name": "python3"
  },
  "language_info": {
   "codemirror_mode": {
    "name": "ipython",
    "version": 3
   },
   "file_extension": ".py",
   "mimetype": "text/x-python",
   "name": "python",
   "nbconvert_exporter": "python",
   "pygments_lexer": "ipython3",
   "version": "3.12.7"
  }
 },
 "nbformat": 4,
 "nbformat_minor": 5
}
